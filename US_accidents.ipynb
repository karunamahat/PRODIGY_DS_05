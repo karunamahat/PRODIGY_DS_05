{
 "cells": [
  {
   "cell_type": "code",
   "execution_count": null,
   "id": "8da6823d-2847-4ccb-9fa0-fc97982318b1",
   "metadata": {},
   "outputs": [],
   "source": []
  },
  {
   "cell_type": "code",
   "execution_count": null,
   "id": "aca533b8-43b1-4ef9-a69c-092e9926f9e2",
   "metadata": {},
   "outputs": [],
   "source": [
    "import pandas as pd\n",
    "\n",
    "# Load the dataset\n",
    "data = pd.read_csv(r\"C:\\Users\\mahat\\Downloads\\US_Accidents_March23.csv\")\n",
    "\n",
    "# Display the first few rows of the dataset\n",
    "print(data.head())\n",
    "\n",
    "# Check for missing values\n",
    "missing_values = data.isnull().sum()\n",
    "print(\"Missing values:\\n\", missing_values)\n",
    "\n",
    "# Fill or drop missing values as necessary\n",
    "data = data.dropna()\n",
    "\n",
    "# Display the first few rows of the cleaned dataset\n",
    "print(data.head())\n",
    "\n",
    "# Attempt to convert Start_Time to datetime type, coercing errors to NaT\n",
    "data['Start_Time'] = pd.to_datetime(data['Start_Time'], errors='coerce')\n",
    "\n",
    "# Display rows where conversion resulted in NaT\n",
    "print(\"Rows with NaT in Start_Time column:\\n\", data[data['Start_Time'].isna()])\n",
    "\n",
    "# Drop rows with NaT in Start_Time after conversion\n",
    "data = data.dropna(subset=['Start_Time'])\n",
    "\n",
    "# Extract hour from Start_Time\n",
    "data['hour'] = data['Start_Time'].dt.hour\n",
    "\n",
    "# Distribution of accidents by time of day\n",
    "import matplotlib.pyplot as plt\n",
    "import seaborn as sns\n",
    "\n",
    "plt.figure(figsize=(12, 6))\n",
    "sns.countplot(data=data, x='hour')\n",
    "plt.title('Accidents by Time of Day')\n",
    "plt.show()\n",
    "\n",
    "# Display basic statistics of the dataset\n",
    "print(data.describe())\n",
    "\n",
    "# Importing data into a csv\n",
    "data.to_csv(r\"C:\\Users\\mahat\\Downloads\\Cleaned_US_Accidents.csv\", index=False)\n"
   ]
  },
  {
   "cell_type": "code",
   "execution_count": null,
   "id": "01afc983-6763-4918-9cac-9cc785b7cfa4",
   "metadata": {},
   "outputs": [],
   "source": []
  },
  {
   "cell_type": "code",
   "execution_count": null,
   "id": "0b6947c2-b35b-4cca-b566-67cc342d4fc5",
   "metadata": {
    "scrolled": true
   },
   "outputs": [],
   "source": []
  },
  {
   "cell_type": "code",
   "execution_count": null,
   "id": "1f9d08e2-ba7f-464c-a853-4479729c9d27",
   "metadata": {},
   "outputs": [],
   "source": []
  }
 ],
 "metadata": {
  "kernelspec": {
   "display_name": "Python 3 (ipykernel)",
   "language": "python",
   "name": "python3"
  },
  "language_info": {
   "codemirror_mode": {
    "name": "ipython",
    "version": 3
   },
   "file_extension": ".py",
   "mimetype": "text/x-python",
   "name": "python",
   "nbconvert_exporter": "python",
   "pygments_lexer": "ipython3",
   "version": "3.11.7"
  }
 },
 "nbformat": 4,
 "nbformat_minor": 5
}
